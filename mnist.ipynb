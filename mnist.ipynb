{
 "cells": [
  {
   "cell_type": "code",
   "execution_count": 1,
   "metadata": {},
   "outputs": [
    {
     "name": "stderr",
     "output_type": "stream",
     "text": [
      "Using TensorFlow backend.\n"
     ]
    }
   ],
   "source": [
    "from keras import Sequential\n",
    "from keras.callbacks import ModelCheckpoint\n",
    "from keras.datasets import mnist\n",
    "import numpy as np\n",
    "import matplotlib.pyplot as plt\n",
    "from keras.layers import Flatten, Dense, Dropout\n",
    "from keras.utils import np_utils, print_summary\n",
    "from keras.models import load_model"
   ]
  },
  {
   "cell_type": "code",
   "execution_count": 2,
   "metadata": {},
   "outputs": [],
   "source": [
    "def loadData():\n",
    "    (x_train, y_train), (x_test, y_test) = mnist.load_data()\n",
    "    return (x_train, y_train), (x_test, y_test)"
   ]
  },
  {
   "cell_type": "code",
   "execution_count": 3,
   "metadata": {},
   "outputs": [],
   "source": [
    "def showData(x, label):\n",
    "    pixels = np.array(x, dtype='uint8')\n",
    "\n",
    "    pixels = pixels.reshape((28, 28))\n",
    "\n",
    "    plt.title('Label is {label}'.format(label=label))\n",
    "    plt.imshow(pixels, cmap='gray')\n",
    "    plt.show()"
   ]
  },
  {
   "cell_type": "code",
   "execution_count": 6,
   "metadata": {},
   "outputs": [],
   "source": [
    "(x_train, y_train), (x_test, y_test) = loadData()"
   ]
  },
  {
   "cell_type": "code",
   "execution_count": null,
   "metadata": {},
   "outputs": [],
   "source": []
  },
  {
   "cell_type": "code",
   "execution_count": 9,
   "metadata": {},
   "outputs": [
    {
     "data": {
      "image/png": "[encoded data removed]",
      "text/plain": [
       "<Figure size 432x288 with 1 Axes>"
      ]
     },
     "metadata": {},
     "output_type": "display_data"
    }
   ],
   "source": [
    "showData(x_train[0],5)"
   ]
  },
  {
   "cell_type": "code",
   "execution_count": 11,
   "metadata": {},
   "outputs": [
    {
     "data": {
      "image/png": "[encoded data removed]",
      "text/plain": [
       "<Figure size 432x288 with 1 Axes>"
      ]
     },
     "metadata": {},
     "output_type": "display_data"
    }
   ],
   "source": [
    "showData(x_train[1],0)"
   ]
  },
  {
   "cell_type": "code",
   "execution_count": 12,
   "metadata": {},
   "outputs": [
    {
     "data": {
      "image/png": "[encoded data removed]",
      "text/plain": [
       "<Figure size 432x288 with 1 Axes>"
      ]
     },
     "metadata": {},
     "output_type": "display_data"
    }
   ],
   "source": [
    "showData(x_train[0], y_train[0])"
   ]
  },
  {
   "cell_type": "code",
   "execution_count": 13,
   "metadata": {},
   "outputs": [
    {
     "data": {
      "image/png": "[encoded data removed]",
      "text/plain": [
       "<Figure size 432x288 with 1 Axes>"
      ]
     },
     "metadata": {},
     "output_type": "display_data"
    }
   ],
   "source": [
    "showData(x_train[100], y_train[100])"
   ]
  },
  {
   "cell_type": "code",
   "execution_count": 14,
   "metadata": {},
   "outputs": [
    {
     "data": {
      "image/png": "[encoded data removed]",
      "text/plain": [
       "<Figure size 432x288 with 1 Axes>"
      ]
     },
     "metadata": {},
     "output_type": "display_data"
    }
   ],
   "source": [
    "showData(x_train[24], y_train[24])"
   ]
  },
  {
   "cell_type": "code",
   "execution_count": 15,
   "metadata": {},
   "outputs": [],
   "source": [
    "def preprocess_labels(y):\n",
    "    labels = np_utils.to_categorical(y)\n",
    "    return labels"
   ]
  },
  {
   "cell_type": "code",
   "execution_count": 16,
   "metadata": {},
   "outputs": [],
   "source": [
    " y_train = preprocess_labels(y_train)"
   ]
  },
  {
   "cell_type": "code",
   "execution_count": 17,
   "metadata": {},
   "outputs": [],
   "source": [
    "y_test = preprocess_labels(y_test)"
   ]
  },
  {
   "cell_type": "code",
   "execution_count": 18,
   "metadata": {},
   "outputs": [],
   "source": [
    "x_train = x_train.reshape(x_train.shape[0], 28, 28, 1)\n",
    "x_test = x_test.reshape(x_test.shape[0], 28, 28, 1)"
   ]
  },
  {
   "cell_type": "code",
   "execution_count": 19,
   "metadata": {},
   "outputs": [],
   "source": [
    "def keras_model(image_x, image_y):\n",
    "    num_of_classes = 10\n",
    "    model = Sequential()\n",
    "    model.add(Flatten(input_shape=(image_x, image_y, 1)))\n",
    "    model.add(Dense(512, activation='relu'))\n",
    "    model.add(Dropout(0.6))\n",
    "    model.add(Dense(128, activation='relu'))\n",
    "    model.add(Dropout(0.6))\n",
    "    model.add(Dense(num_of_classes, activation='softmax'))\n",
    "\n",
    "    model.compile(loss='categorical_crossentropy', optimizer='adam', metrics=['accuracy'])\n",
    "    filepath = \"mnist_sit.h5\"\n",
    "    checkpoint = ModelCheckpoint(filepath, monitor='val_acc', verbose=1, save_best_only=True, mode='max')\n",
    "    callbacks_list = [checkpoint]\n",
    "\n",
    "    return model, callbacks_list"
   ]
  },
  {
   "cell_type": "code",
   "execution_count": 21,
   "metadata": {},
   "outputs": [
    {
     "name": "stdout",
     "output_type": "stream",
     "text": [
      "_________________________________________________________________\n",
      "Layer (type)                 Output Shape              Param #   \n",
      "=================================================================\n",
      "flatten_1 (Flatten)          (None, 784)               0         \n",
      "_________________________________________________________________\n",
      "dense_1 (Dense)              (None, 512)               401920    \n",
      "_________________________________________________________________\n",
      "dropout_1 (Dropout)          (None, 512)               0         \n",
      "_________________________________________________________________\n",
      "dense_2 (Dense)              (None, 128)               65664     \n",
      "_________________________________________________________________\n",
      "dropout_2 (Dropout)          (None, 128)               0         \n",
      "_________________________________________________________________\n",
      "dense_3 (Dense)              (None, 10)                1290      \n",
      "=================================================================\n",
      "Total params: 468,874\n",
      "Trainable params: 468,874\n",
      "Non-trainable params: 0\n",
      "_________________________________________________________________\n"
     ]
    }
   ],
   "source": [
    " model, callbacks_list = keras_model(28, 28)\n",
    "print_summary(model)"
   ]
  },
  {
   "cell_type": "code",
   "execution_count": 22,
   "metadata": {},
   "outputs": [
    {
     "name": "stdout",
     "output_type": "stream",
     "text": [
      "Train on 60000 samples, validate on 10000 samples\n",
      "Epoch 1/10\n",
      "60000/60000 [==============================] - 25s 412us/step - loss: 11.6477 - acc: 0.2756 - val_loss: 9.1395 - val_acc: 0.4322\n",
      "\n",
      "Epoch 00001: val_acc improved from -inf to 0.43220, saving model to mnist_sit.h5\n",
      "Epoch 2/10\n",
      "60000/60000 [==============================] - 28s 473us/step - loss: 10.0126 - acc: 0.3778 - val_loss: 7.3216 - val_acc: 0.5451\n",
      "\n",
      "Epoch 00002: val_acc improved from 0.43220 to 0.54510, saving model to mnist_sit.h5\n",
      "Epoch 3/10\n",
      "60000/60000 [==============================] - 21s 342us/step - loss: 8.7287 - acc: 0.4578 - val_loss: 6.9308 - val_acc: 0.5697\n",
      "\n",
      "Epoch 00003: val_acc improved from 0.54510 to 0.56970, saving model to mnist_sit.h5\n",
      "Epoch 4/10\n",
      "60000/60000 [==============================] - 18s 292us/step - loss: 8.1962 - acc: 0.4911 - val_loss: 6.9380 - val_acc: 0.5694\n",
      "\n",
      "Epoch 00004: val_acc did not improve from 0.56970\n",
      "Epoch 5/10\n",
      "60000/60000 [==============================] - 19s 316us/step - loss: 7.9475 - acc: 0.5064 - val_loss: 5.9114 - val_acc: 0.6332\n",
      "\n",
      "Epoch 00005: val_acc improved from 0.56970 to 0.63320, saving model to mnist_sit.h5\n",
      "Epoch 6/10\n",
      "60000/60000 [==============================] - 20s 333us/step - loss: 7.9089 - acc: 0.5090 - val_loss: 6.5395 - val_acc: 0.5941\n",
      "\n",
      "Epoch 00006: val_acc did not improve from 0.63320\n",
      "Epoch 7/10\n",
      "60000/60000 [==============================] - 19s 310us/step - loss: 7.3592 - acc: 0.5430 - val_loss: 5.6706 - val_acc: 0.6480\n",
      "\n",
      "Epoch 00007: val_acc improved from 0.63320 to 0.64800, saving model to mnist_sit.h5\n",
      "Epoch 8/10\n",
      "60000/60000 [==============================] - 22s 370us/step - loss: 7.1130 - acc: 0.5585 - val_loss: 5.8917 - val_acc: 0.6344\n",
      "\n",
      "Epoch 00008: val_acc did not improve from 0.64800\n",
      "Epoch 9/10\n",
      "60000/60000 [==============================] - 22s 360us/step - loss: 7.2425 - acc: 0.5504 - val_loss: 6.3741 - val_acc: 0.6044\n",
      "\n",
      "Epoch 00009: val_acc did not improve from 0.64800\n",
      "Epoch 10/10\n",
      "60000/60000 [==============================] - 20s 333us/step - loss: 7.1498 - acc: 0.5563 - val_loss: 5.9739 - val_acc: 0.6291TA: 1s - loss\n",
      "\n",
      "Epoch 00010: val_acc did not improve from 0.64800\n"
     ]
    },
    {
     "data": {
      "text/plain": [
       "<keras.callbacks.History at 0x28c843e4518>"
      ]
     },
     "execution_count": 22,
     "metadata": {},
     "output_type": "execute_result"
    }
   ],
   "source": [
    "model.fit(x_train, y_train, validation_data=(x_test, y_test), epochs=10, batch_size=64,\n",
    "              callbacks=callbacks_list)"
   ]
  },
  {
   "cell_type": "code",
   "execution_count": 23,
   "metadata": {},
   "outputs": [],
   "source": [
    "model.save('mnist_sit.h5')"
   ]
  },
  {
   "cell_type": "code",
   "execution_count": 24,
   "metadata": {},
   "outputs": [],
   "source": [
    "def predict(x, y):\n",
    "    mnist_sit = load_model('mnist_sit.h5')\n",
    "    cnn_model = load_model('mnist_cnn.h5')\n",
    "    x = np.reshape(x, (-1, 28, 28, 1))\n",
    "    out1 = mnist_sit.predict(x)\n",
    "    out2 = cnn_model.predict(x)\n",
    "    print(np.argmax(out1))\n",
    "    print(np.argmax(out2))"
   ]
  },
  {
   "cell_type": "code",
   "execution_count": 26,
   "metadata": {},
   "outputs": [
    {
     "data": {
      "image/png": "[encoded data removed]",
      "text/plain": [
       "<Figure size 432x288 with 1 Axes>"
      ]
     },
     "metadata": {},
     "output_type": "display_data"
    },
    {
     "name": "stderr",
     "output_type": "stream",
     "text": [
      "F:\\Anaconda3\\lib\\site-packages\\keras\\engine\\saving.py:327: UserWarning: Error in loading the saved optimizer state. As a result, your model is starting with a freshly initialized optimizer.\n",
      "  warnings.warn('Error in loading the saved optimizer '\n"
     ]
    },
    {
     "name": "stdout",
     "output_type": "stream",
     "text": [
      "3\n",
      "5\n"
     ]
    }
   ],
   "source": [
    "showData(x_train[0], y_train[0])\n",
    "predict(x_train[0], y_train[0])"
   ]
  },
  {
   "cell_type": "code",
   "execution_count": null,
   "metadata": {},
   "outputs": [],
   "source": []
  }
 ],
 "metadata": {
  "kernelspec": {
   "display_name": "Python 3",
   "language": "python",
   "name": "python3"
  },
  "language_info": {
   "codemirror_mode": {
    "name": "ipython",
    "version": 3
   },
   "file_extension": ".py",
   "mimetype": "text/x-python",
   "name": "python",
   "nbconvert_exporter": "python",
   "pygments_lexer": "ipython3",
   "version": "3.6.1"
  }
 },
 "nbformat": 4,
 "nbformat_minor": 1
}
